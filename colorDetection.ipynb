{
 "cells": [
  {
   "cell_type": "code",
   "execution_count": 14,
   "id": "02d6936d-d4b8-40ea-9e75-e30f93ea640c",
   "metadata": {},
   "outputs": [],
   "source": [
    "import numpy as np\n",
    "import cv2"
   ]
  },
  {
   "cell_type": "code",
   "execution_count": 15,
   "id": "54f2f7ae-ca5e-4639-af1d-a8c37d1e643a",
   "metadata": {},
   "outputs": [],
   "source": [
    "web = cv2.VideoCapture(0)"
   ]
  },
  {
   "cell_type": "code",
   "execution_count": 16,
   "id": "6ee8358c-7d3e-48c7-9532-f24e37939dfa",
   "metadata": {},
   "outputs": [],
   "source": [
    "while True:\n",
    "    ret, img = web.read()\n",
    "    if not ret:\n",
    "        print(\"Failed to grab frame\")\n",
    "        break\n",
    "\n",
    "    hsv = cv2.cvtColor(img, cv2.COLOR_BGR2HSV)\n",
    "    green_lower = np.array([35, 100, 100])\n",
    "    green_upper = np.array([85, 255, 255])\n",
    "    blue_lower = np.array([100, 100, 100])\n",
    "    blue_upper = np.array([140, 255, 255])   \n",
    "    red_L = np.array([135, 85, 115], np.uint8)\n",
    "    red_U = np.array([185, 250, 250], np.uint8)\n",
    "    redM = cv2.inRange(hsv, red_L, red_U)\n",
    "    greenM = cv2.inRange(hsv,green_lower,green_upper)\n",
    "    blueM = cv2.inRange(hsv,blue_lower,blue_upper)\n",
    "    kernel = np.ones((5, 5), np.uint8)\n",
    "    redM = cv2.dilate(redM, kernel)\n",
    "    greenM = cv2.dilate(greenM,kernel)\n",
    "    blueM = cv2.dilate(blueM,kernel)\n",
    "    red = cv2.bitwise_and(img, img, mask=redM)\n",
    "\n",
    "    contours, hier = cv2.findContours(redM, cv2.RETR_TREE, cv2.CHAIN_APPROX_SIMPLE)\n",
    "    for pic, contour in enumerate(contours):\n",
    "        area = cv2.contourArea(contour)\n",
    "        if area > 300:\n",
    "            x, y, w, h = cv2.boundingRect(contour)\n",
    "            cv2.rectangle(img, (x, y), (x + w, y + h), (0, 0, 255), thickness=2)\n",
    "            cv2.putText(img, \"Red colour\", (x, y), cv2.FONT_HERSHEY_SIMPLEX, 1.0, (0, 0, 255))\n",
    "\n",
    "    contours1, hier1 = cv2.findContours(greenM, cv2.RETR_TREE, cv2.CHAIN_APPROX_SIMPLE)\n",
    "    for pic1, contour1 in enumerate(contours1):\n",
    "        area1 = cv2.contourArea(contour1)\n",
    "        if area1 > 300:\n",
    "            x1, y1, w1, h1 = cv2.boundingRect(contour1)\n",
    "            cv2.rectangle(img, (x1, y1), (x1 + w1, y1 + h1), (0, 255, 0), thickness=2)\n",
    "            cv2.putText(img, \"Green colour\", (x1, y1), cv2.FONT_HERSHEY_SIMPLEX, 1.0, (0, 255, 0))\n",
    "\n",
    "    contours2, hier2 = cv2.findContours(blueM, cv2.RETR_TREE, cv2.CHAIN_APPROX_SIMPLE)\n",
    "    for pic2, contour2 in enumerate(contours2):\n",
    "        area2 = cv2.contourArea(contour2)\n",
    "        if area2 > 300:\n",
    "            x2, y2, w2, h2 = cv2.boundingRect(contour2)\n",
    "            cv2.rectangle(img, (x, y), (x2 + w2, y2 + h2), (255, 0, 0), thickness=2)\n",
    "            cv2.putText(img, \"Blue colour\", (x2, y2), cv2.FONT_HERSHEY_SIMPLEX, 1.0, (255, 0, 0))\n",
    "\n",
    "    cv2.imshow(\"Colour detection\", img)\n",
    "\n",
    "    if cv2.waitKey(1) & 0xFF == ord('q'):\n",
    "        break\n",
    "\n",
    "web.release()\n",
    "cv2.destroyAllWindows()"
   ]
  },
  {
   "cell_type": "code",
   "execution_count": null,
   "id": "27733620-3c8a-4961-af73-1a438c80164a",
   "metadata": {},
   "outputs": [],
   "source": []
  }
 ],
 "metadata": {
  "kernelspec": {
   "display_name": "Python 3 (ipykernel)",
   "language": "python",
   "name": "python3"
  },
  "language_info": {
   "codemirror_mode": {
    "name": "ipython",
    "version": 3
   },
   "file_extension": ".py",
   "mimetype": "text/x-python",
   "name": "python",
   "nbconvert_exporter": "python",
   "pygments_lexer": "ipython3",
   "version": "3.9.10"
  }
 },
 "nbformat": 4,
 "nbformat_minor": 5
}
